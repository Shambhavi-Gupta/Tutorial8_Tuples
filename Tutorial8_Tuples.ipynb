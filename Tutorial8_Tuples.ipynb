{
  "nbformat": 4,
  "nbformat_minor": 0,
  "metadata": {
    "colab": {
      "name": "Tutorial8_Tuples.ipynb",
      "provenance": [],
      "authorship_tag": "ABX9TyPObv8V3bXPXGHj/hvbTrAX",
      "include_colab_link": true
    },
    "kernelspec": {
      "name": "python3",
      "display_name": "Python 3"
    }
  },
  "cells": [
    {
      "cell_type": "markdown",
      "metadata": {
        "id": "view-in-github",
        "colab_type": "text"
      },
      "source": [
        "<a href=\"https://colab.research.google.com/github/Shambhavi-Gupta/Tutorial8_Tuples/blob/main/Tutorial8_Tuples.ipynb\" target=\"_parent\"><img src=\"https://colab.research.google.com/assets/colab-badge.svg\" alt=\"Open In Colab\"/></a>"
      ]
    },
    {
      "cell_type": "code",
      "metadata": {
        "id": "i7y4QLuod3CC"
      },
      "source": [
        "\"\"\"\"\r\n",
        "MUTABLE = can change\r\n",
        "IMMUTABLE = cannot change\r\n",
        "\"\"\"\r\n",
        "tuple = (1,2,3,4,5)\r\n",
        "#print(tuple)\r\n",
        "print(len(tuple))\r\n",
        "print(tuple[:-2])\r\n",
        "#like we want to swap two numbers\r\n",
        "\"\"\"\r\n",
        "a = 1\r\n",
        "b = 2\r\n",
        "temp = a\r\n",
        "a = b\r\n",
        "b = temp\r\n",
        "print(a,b)\r\n",
        "\"\"\"\r\n",
        "# in python we only need to write single line code for swapping\r\n",
        "a = 1\r\n",
        "b = 2\r\n",
        "a,b = b,a\r\n",
        "print(a,b)\r\n"
      ],
      "execution_count": null,
      "outputs": []
    }
  ]
}